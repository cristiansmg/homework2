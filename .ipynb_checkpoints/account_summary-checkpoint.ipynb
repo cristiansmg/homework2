{
 "cells": [
  {
   "cell_type": "code",
   "execution_count": 2,
   "metadata": {},
   "outputs": [],
   "source": [
    "import os\n",
    "import plaid\n",
    "import requests\n",
    "import datetime\n",
    "import json\n",
    "import pandas as pd\n",
    "%matplotlib inline"
   ]
  },
  {
   "cell_type": "code",
   "execution_count": 3,
   "metadata": {},
   "outputs": [],
   "source": [
    "def pretty_print_response(response):\n",
    "  print(json.dumps(response, indent=4, sort_keys=True))"
   ]
  },
  {
   "cell_type": "code",
   "execution_count": 4,
   "metadata": {},
   "outputs": [],
   "source": [
    "PLAID_CLIENT_ID = '5d5b595c744b460013d3e435'\n",
    "PLAID_SECRET = '57bffd4be84e1d71e4b6880a72cbba'\n",
    "PLAID_PUBLIC_KEY = '18a89430a53179a5ef920fcdc2ecbc'\n",
    "PLAID_ENV = 'sandbox'\n",
    "PLAID_PRODUCTS = 'transactions'"
   ]
  },
  {
   "cell_type": "markdown",
   "metadata": {},
   "source": [
    "# Plaid Access Token\n",
    "\n",
    "In this section, you will use the plaid-python api to generate the correct authentication tokens to access data in the free developer Sandbox. This mimics how you might connect to your own account or a customer account, but due to privacy issues, this homework will only require connecting to and analyzing the fake data from the developer sandbox that Plaid provides. \n",
    "\n",
    "Complete the following steps to generate an access token:\n",
    "1. Create a client to connect to paid\n",
    "2. Use the client to generate a public token and request the following items: \n",
    "['transactions', 'income', 'assets']\n",
    "3. Exchange the public token for an access token\n",
    "4. Test the access token by requesting and printing the available test accounts"
   ]
  },
  {
   "cell_type": "markdown",
   "metadata": {},
   "source": [
    "### 1. Create a client to connect to plaid"
   ]
  },
  {
   "cell_type": "code",
   "execution_count": 5,
   "metadata": {},
   "outputs": [],
   "source": [
    "INSTITUTION_ID = \"ins_109508\"\n",
    "\n"
   ]
  },
  {
   "cell_type": "code",
   "execution_count": 6,
   "metadata": {},
   "outputs": [],
   "source": [
    "# YOUR CODE HERE\n",
    "client = plaid.Client(client_id=PLAID_CLIENT_ID, secret=PLAID_SECRET, public_key=PLAID_PUBLIC_KEY, environment='sandbox')"
   ]
  },
  {
   "cell_type": "markdown",
   "metadata": {},
   "source": [
    "### 2. Generate a public token"
   ]
  },
  {
   "cell_type": "code",
   "execution_count": 7,
   "metadata": {},
   "outputs": [],
   "source": [
    "# YOUR CODE HERE\n",
    "create_tkn_response = client.Sandbox.public_token.create(INSTITUTION_ID, ['transactions','income','assets'])\n"
   ]
  },
  {
   "cell_type": "markdown",
   "metadata": {},
   "source": [
    "### 3. Exchange the public token for an access token"
   ]
  },
  {
   "cell_type": "code",
   "execution_count": 8,
   "metadata": {},
   "outputs": [],
   "source": [
    "# YOUR CODE HERE\n",
    "exchange_response = client.Item.public_token.exchange(create_tkn_response['public_token'])\n",
    "access_token = exchange_response['access_token']"
   ]
  },
  {
   "cell_type": "markdown",
   "metadata": {},
   "source": [
    "### 4. Fetch Accounts"
   ]
  },
  {
   "cell_type": "code",
   "execution_count": 9,
   "metadata": {},
   "outputs": [
    {
     "data": {
      "text/plain": [
       "{'accounts': [{'account_id': 'EQyn4DrkyeHbZDmb7z8zSA5p5MQj5VhXBaGZl',\n",
       "   'balances': {'available': 100,\n",
       "    'current': 110,\n",
       "    'iso_currency_code': 'USD',\n",
       "    'limit': None,\n",
       "    'unofficial_currency_code': None},\n",
       "   'mask': '0000',\n",
       "   'name': 'Plaid Checking',\n",
       "   'official_name': 'Plaid Gold Standard 0% Interest Checking',\n",
       "   'subtype': 'checking',\n",
       "   'type': 'depository'},\n",
       "  {'account_id': 'WxQpGD4PQNtBeoaB8rWrSjNrNQeXNDClbdnoj',\n",
       "   'balances': {'available': 200,\n",
       "    'current': 210,\n",
       "    'iso_currency_code': 'USD',\n",
       "    'limit': None,\n",
       "    'unofficial_currency_code': None},\n",
       "   'mask': '1111',\n",
       "   'name': 'Plaid Saving',\n",
       "   'official_name': 'Plaid Silver Standard 0.1% Interest Saving',\n",
       "   'subtype': 'savings',\n",
       "   'type': 'depository'},\n",
       "  {'account_id': 'APG43E9BGNfygN3y5qeqtPKGKkdgK4f1pbZRx',\n",
       "   'balances': {'available': None,\n",
       "    'current': 1000,\n",
       "    'iso_currency_code': 'USD',\n",
       "    'limit': None,\n",
       "    'unofficial_currency_code': None},\n",
       "   'mask': '2222',\n",
       "   'name': 'Plaid CD',\n",
       "   'official_name': 'Plaid Bronze Standard 0.2% Interest CD',\n",
       "   'subtype': 'cd',\n",
       "   'type': 'depository'},\n",
       "  {'account_id': 'GMlRPDkNlZfXkLPXzoEoU6D1DLkXDVi1pVmJK',\n",
       "   'balances': {'available': None,\n",
       "    'current': 410,\n",
       "    'iso_currency_code': 'USD',\n",
       "    'limit': 2000,\n",
       "    'unofficial_currency_code': None},\n",
       "   'mask': '3333',\n",
       "   'name': 'Plaid Credit Card',\n",
       "   'official_name': 'Plaid Diamond 12.5% APR Interest Credit Card',\n",
       "   'subtype': 'credit card',\n",
       "   'type': 'credit'},\n",
       "  {'account_id': 'nrkbVnJ8kEiPBlDPX3q3FvJLJrQ9JBC65arPV',\n",
       "   'balances': {'available': 43200,\n",
       "    'current': 43200,\n",
       "    'iso_currency_code': 'USD',\n",
       "    'limit': None,\n",
       "    'unofficial_currency_code': None},\n",
       "   'mask': '4444',\n",
       "   'name': 'Plaid Money Market',\n",
       "   'official_name': 'Plaid Platinum Standard 1.85% Interest Money Market',\n",
       "   'subtype': 'money market',\n",
       "   'type': 'depository'},\n",
       "  {'account_id': 'bMAwVWjmAEflMKelZxgxi63k3vMW3DiVkRagb',\n",
       "   'balances': {'available': None,\n",
       "    'current': 320.76,\n",
       "    'iso_currency_code': 'USD',\n",
       "    'limit': None,\n",
       "    'unofficial_currency_code': None},\n",
       "   'mask': '5555',\n",
       "   'name': 'Plaid IRA',\n",
       "   'official_name': None,\n",
       "   'subtype': 'ira',\n",
       "   'type': 'investment'},\n",
       "  {'account_id': 'mKzaVn98zysN5RMNZQlQURjgjQJ8j5iLoGxRZ',\n",
       "   'balances': {'available': None,\n",
       "    'current': 23631.9805,\n",
       "    'iso_currency_code': 'USD',\n",
       "    'limit': None,\n",
       "    'unofficial_currency_code': None},\n",
       "   'mask': '6666',\n",
       "   'name': 'Plaid 401k',\n",
       "   'official_name': None,\n",
       "   'subtype': '401k',\n",
       "   'type': 'investment'},\n",
       "  {'account_id': 'y7QDlnb8QqhGZNyG7xmxuarmr9jorQcyaJjkz',\n",
       "   'balances': {'available': None,\n",
       "    'current': 65262,\n",
       "    'iso_currency_code': 'USD',\n",
       "    'limit': None,\n",
       "    'unofficial_currency_code': None},\n",
       "   'mask': '7777',\n",
       "   'name': 'Plaid Student Loan',\n",
       "   'official_name': None,\n",
       "   'subtype': 'student',\n",
       "   'type': 'loan'}],\n",
       " 'item': {'available_products': ['auth',\n",
       "   'balance',\n",
       "   'credit_details',\n",
       "   'identity',\n",
       "   'investments',\n",
       "   'liabilities'],\n",
       "  'billed_products': ['assets', 'income', 'transactions'],\n",
       "  'error': None,\n",
       "  'institution_id': 'ins_109508',\n",
       "  'item_id': 'ggyNVWJmy9SB15PBypKpS7RJd985amtgmBjQy',\n",
       "  'webhook': ''},\n",
       " 'request_id': 'Ai362hsRxQygeTz'}"
      ]
     },
     "execution_count": 9,
     "metadata": {},
     "output_type": "execute_result"
    }
   ],
   "source": [
    "# YOUR CODE HERE\n",
    "client.Accounts.get(access_token)"
   ]
  },
  {
   "cell_type": "markdown",
   "metadata": {},
   "source": [
    "---"
   ]
  },
  {
   "cell_type": "markdown",
   "metadata": {},
   "source": [
    "# Account Transactions with Plaid\n",
    "\n",
    "In this section, you will use the Plaid Python SDK to connect to the Developer Sandbox account and grab a list of transactions. You will need to complete the following steps:\n",
    "\n",
    "\n",
    "1. Use the access token to fetch the transactions for the last 90 days\n",
    "2. Print the categories for each transaction type\n",
    "3. Create a new DataFrame using the following fields from the JSON transaction data: `date, name, amount, category`. (For categories with more than one label, just use the first category label in the list)\n",
    "4. Convert the data types to the appropriate types (i.e. datetimeindex for the date and float for the amount)"
   ]
  },
  {
   "cell_type": "markdown",
   "metadata": {},
   "source": [
    "### 1. Fetch the Transactions for the last 90 days"
   ]
  },
  {
   "cell_type": "code",
   "execution_count": 10,
   "metadata": {},
   "outputs": [],
   "source": [
    "# YOUR CODE HERE\n",
    "start_date = '{:%Y-%m-%d}'.format(datetime.datetime.now() + datetime.timedelta(-90))\n",
    "end_date = '{:%Y-%m-%d}'.format(datetime.datetime.now())\n",
    "transaction_response = client.Transactions.get(access_token,start_date,end_date)"
   ]
  },
  {
   "cell_type": "markdown",
   "metadata": {},
   "source": [
    "### 2. Print the categories for each transaction"
   ]
  },
  {
   "cell_type": "code",
   "execution_count": 11,
   "metadata": {},
   "outputs": [
    {
     "name": "stdout",
     "output_type": "stream",
     "text": [
      "[\n",
      "    \"Travel\",\n",
      "    \"Airlines and Aviation Services\"\n",
      "]\n",
      "[\n",
      "    \"Travel\",\n",
      "    \"Car Service\",\n",
      "    \"Ride Share\"\n",
      "]\n",
      "[\n",
      "    \"Food and Drink\",\n",
      "    \"Restaurants\"\n",
      "]\n",
      "[\n",
      "    \"Payment\"\n",
      "]\n",
      "[\n",
      "    \"Food and Drink\",\n",
      "    \"Restaurants\"\n",
      "]\n",
      "[\n",
      "    \"Shops\",\n",
      "    \"Sporting Goods\"\n",
      "]\n",
      "[\n",
      "    \"Payment\",\n",
      "    \"Credit Card\"\n",
      "]\n",
      "[\n",
      "    \"Travel\",\n",
      "    \"Car Service\",\n",
      "    \"Ride Share\"\n",
      "]\n",
      "[\n",
      "    \"Transfer\",\n",
      "    \"Debit\"\n",
      "]\n",
      "[\n",
      "    \"Transfer\",\n",
      "    \"Deposit\"\n",
      "]\n",
      "[\n",
      "    \"Recreation\",\n",
      "    \"Gyms and Fitness Centers\"\n",
      "]\n",
      "[\n",
      "    \"Travel\",\n",
      "    \"Airlines and Aviation Services\"\n",
      "]\n",
      "[\n",
      "    \"Food and Drink\",\n",
      "    \"Restaurants\"\n",
      "]\n",
      "[\n",
      "    \"Food and Drink\",\n",
      "    \"Restaurants\",\n",
      "    \"Coffee Shop\"\n",
      "]\n",
      "[\n",
      "    \"Food and Drink\",\n",
      "    \"Restaurants\"\n",
      "]\n",
      "[\n",
      "    \"Transfer\",\n",
      "    \"Credit\"\n",
      "]\n",
      "[\n",
      "    \"Travel\",\n",
      "    \"Airlines and Aviation Services\"\n",
      "]\n",
      "[\n",
      "    \"Travel\",\n",
      "    \"Car Service\",\n",
      "    \"Ride Share\"\n",
      "]\n",
      "[\n",
      "    \"Food and Drink\",\n",
      "    \"Restaurants\"\n",
      "]\n",
      "[\n",
      "    \"Payment\"\n",
      "]\n",
      "[\n",
      "    \"Food and Drink\",\n",
      "    \"Restaurants\"\n",
      "]\n",
      "[\n",
      "    \"Shops\",\n",
      "    \"Sporting Goods\"\n",
      "]\n",
      "[\n",
      "    \"Payment\",\n",
      "    \"Credit Card\"\n",
      "]\n",
      "[\n",
      "    \"Travel\",\n",
      "    \"Car Service\",\n",
      "    \"Ride Share\"\n",
      "]\n",
      "[\n",
      "    \"Transfer\",\n",
      "    \"Debit\"\n",
      "]\n",
      "[\n",
      "    \"Transfer\",\n",
      "    \"Deposit\"\n",
      "]\n",
      "[\n",
      "    \"Recreation\",\n",
      "    \"Gyms and Fitness Centers\"\n",
      "]\n",
      "[\n",
      "    \"Travel\",\n",
      "    \"Airlines and Aviation Services\"\n",
      "]\n",
      "[\n",
      "    \"Food and Drink\",\n",
      "    \"Restaurants\"\n",
      "]\n",
      "[\n",
      "    \"Food and Drink\",\n",
      "    \"Restaurants\",\n",
      "    \"Coffee Shop\"\n",
      "]\n",
      "[\n",
      "    \"Food and Drink\",\n",
      "    \"Restaurants\"\n",
      "]\n",
      "[\n",
      "    \"Transfer\",\n",
      "    \"Credit\"\n",
      "]\n",
      "[\n",
      "    \"Travel\",\n",
      "    \"Airlines and Aviation Services\"\n",
      "]\n",
      "[\n",
      "    \"Travel\",\n",
      "    \"Car Service\",\n",
      "    \"Ride Share\"\n",
      "]\n",
      "[\n",
      "    \"Food and Drink\",\n",
      "    \"Restaurants\"\n",
      "]\n",
      "[\n",
      "    \"Payment\"\n",
      "]\n",
      "[\n",
      "    \"Food and Drink\",\n",
      "    \"Restaurants\"\n",
      "]\n",
      "[\n",
      "    \"Shops\",\n",
      "    \"Sporting Goods\"\n",
      "]\n",
      "[\n",
      "    \"Payment\",\n",
      "    \"Credit Card\"\n",
      "]\n",
      "[\n",
      "    \"Travel\",\n",
      "    \"Car Service\",\n",
      "    \"Ride Share\"\n",
      "]\n",
      "[\n",
      "    \"Transfer\",\n",
      "    \"Debit\"\n",
      "]\n",
      "[\n",
      "    \"Transfer\",\n",
      "    \"Deposit\"\n",
      "]\n",
      "[\n",
      "    \"Recreation\",\n",
      "    \"Gyms and Fitness Centers\"\n",
      "]\n",
      "[\n",
      "    \"Travel\",\n",
      "    \"Airlines and Aviation Services\"\n",
      "]\n",
      "[\n",
      "    \"Food and Drink\",\n",
      "    \"Restaurants\"\n",
      "]\n",
      "[\n",
      "    \"Food and Drink\",\n",
      "    \"Restaurants\",\n",
      "    \"Coffee Shop\"\n",
      "]\n",
      "[\n",
      "    \"Food and Drink\",\n",
      "    \"Restaurants\"\n",
      "]\n",
      "[\n",
      "    \"Transfer\",\n",
      "    \"Credit\"\n",
      "]\n"
     ]
    }
   ],
   "source": [
    "# YOUR CODE HERE\n",
    "for transactions in transaction_response['transactions']:\n",
    "        print(json.dumps(transactions['category'], indent=4, sort_keys=True))"
   ]
  },
  {
   "cell_type": "markdown",
   "metadata": {},
   "source": [
    "### 3. Create a new DataFrame using the following fields from the JSON transaction data: date, name, amount, category. \n",
    "\n",
    "(For categories with more than one label, just use the first category label in the list)"
   ]
  },
  {
   "cell_type": "code",
   "execution_count": 62,
   "metadata": {},
   "outputs": [
    {
     "name": "stdout",
     "output_type": "stream",
     "text": [
      "2019-10-03 United Airlines \t $500 Cat: Travel\n",
      "2019-10-01 Uber 072515 SF**POOL** \t $6.33 Cat: Travel\n",
      "2019-09-28 Tectra Inc \t $500 Cat: Food and Drink\n",
      "2019-09-27 AUTOMATIC PAYMENT - THANK \t $2078.5 Cat: Payment\n",
      "2019-09-27 KFC \t $500 Cat: Food and Drink\n",
      "2019-09-27 Madison Bicycle Shop \t $500 Cat: Shops\n",
      "2019-09-18 CREDIT CARD 3333 PAYMENT *// \t $25 Cat: Payment\n",
      "2019-09-18 Uber 063015 SF**POOL** \t $5.4 Cat: Travel\n",
      "2019-09-17 ACH Electronic CreditGUSTO PAY 123456 \t $5850 Cat: Transfer\n",
      "2019-09-17 CD DEPOSIT .INITIAL. \t $1000 Cat: Transfer\n",
      "2019-09-16 Touchstone Climbing \t $78.5 Cat: Recreation\n",
      "2019-09-16 United Airlines \t $-500 Cat: Travel\n",
      "2019-09-15 McDonald's \t $12 Cat: Food and Drink\n",
      "2019-09-15 Starbucks \t $4.33 Cat: Food and Drink\n",
      "2019-09-14 SparkFun \t $89.4 Cat: Food and Drink\n",
      "2019-09-13 INTRST PYMNT \t $-4.22 Cat: Transfer\n",
      "2019-09-03 United Airlines \t $500 Cat: Travel\n",
      "2019-09-01 Uber 072515 SF**POOL** \t $6.33 Cat: Travel\n",
      "2019-08-29 Tectra Inc \t $500 Cat: Food and Drink\n",
      "2019-08-28 AUTOMATIC PAYMENT - THANK \t $2078.5 Cat: Payment\n",
      "2019-08-28 KFC \t $500 Cat: Food and Drink\n",
      "2019-08-28 Madison Bicycle Shop \t $500 Cat: Shops\n",
      "2019-08-19 CREDIT CARD 3333 PAYMENT *// \t $25 Cat: Payment\n",
      "2019-08-19 Uber 063015 SF**POOL** \t $5.4 Cat: Travel\n",
      "2019-08-18 ACH Electronic CreditGUSTO PAY 123456 \t $5850 Cat: Transfer\n",
      "2019-08-18 CD DEPOSIT .INITIAL. \t $1000 Cat: Transfer\n",
      "2019-08-17 Touchstone Climbing \t $78.5 Cat: Recreation\n",
      "2019-08-17 United Airlines \t $-500 Cat: Travel\n",
      "2019-08-16 McDonald's \t $12 Cat: Food and Drink\n",
      "2019-08-16 Starbucks \t $4.33 Cat: Food and Drink\n",
      "2019-08-15 SparkFun \t $89.4 Cat: Food and Drink\n",
      "2019-08-14 INTRST PYMNT \t $-4.22 Cat: Transfer\n",
      "2019-08-04 United Airlines \t $500 Cat: Travel\n",
      "2019-08-02 Uber 072515 SF**POOL** \t $6.33 Cat: Travel\n",
      "2019-07-30 Tectra Inc \t $500 Cat: Food and Drink\n",
      "2019-07-29 AUTOMATIC PAYMENT - THANK \t $2078.5 Cat: Payment\n",
      "2019-07-29 KFC \t $500 Cat: Food and Drink\n",
      "2019-07-29 Madison Bicycle Shop \t $500 Cat: Shops\n",
      "2019-07-20 CREDIT CARD 3333 PAYMENT *// \t $25 Cat: Payment\n",
      "2019-07-20 Uber 063015 SF**POOL** \t $5.4 Cat: Travel\n",
      "2019-07-19 ACH Electronic CreditGUSTO PAY 123456 \t $5850 Cat: Transfer\n",
      "2019-07-19 CD DEPOSIT .INITIAL. \t $1000 Cat: Transfer\n",
      "2019-07-18 Touchstone Climbing \t $78.5 Cat: Recreation\n",
      "2019-07-18 United Airlines \t $-500 Cat: Travel\n",
      "2019-07-17 McDonald's \t $12 Cat: Food and Drink\n",
      "2019-07-17 Starbucks \t $4.33 Cat: Food and Drink\n",
      "2019-07-16 SparkFun \t $89.4 Cat: Food and Drink\n",
      "2019-07-15 INTRST PYMNT \t $-4.22 Cat: Transfer\n"
     ]
    },
    {
     "data": {
      "text/html": [
       "<div>\n",
       "<style scoped>\n",
       "    .dataframe tbody tr th:only-of-type {\n",
       "        vertical-align: middle;\n",
       "    }\n",
       "\n",
       "    .dataframe tbody tr th {\n",
       "        vertical-align: top;\n",
       "    }\n",
       "\n",
       "    .dataframe thead th {\n",
       "        text-align: right;\n",
       "    }\n",
       "</style>\n",
       "<table border=\"1\" class=\"dataframe\">\n",
       "  <thead>\n",
       "    <tr style=\"text-align: right;\">\n",
       "      <th></th>\n",
       "      <th>Date</th>\n",
       "      <th>Name</th>\n",
       "      <th>Amount</th>\n",
       "      <th>Category</th>\n",
       "    </tr>\n",
       "  </thead>\n",
       "  <tbody>\n",
       "    <tr>\n",
       "      <th>0</th>\n",
       "      <td>2019-10-03</td>\n",
       "      <td>United Airlines</td>\n",
       "      <td>500.00</td>\n",
       "      <td>Travel</td>\n",
       "    </tr>\n",
       "    <tr>\n",
       "      <th>1</th>\n",
       "      <td>2019-10-01</td>\n",
       "      <td>Uber 072515 SF**POOL**</td>\n",
       "      <td>6.33</td>\n",
       "      <td>Travel</td>\n",
       "    </tr>\n",
       "    <tr>\n",
       "      <th>2</th>\n",
       "      <td>2019-09-28</td>\n",
       "      <td>Tectra Inc</td>\n",
       "      <td>500.00</td>\n",
       "      <td>Food and Drink</td>\n",
       "    </tr>\n",
       "    <tr>\n",
       "      <th>3</th>\n",
       "      <td>2019-09-27</td>\n",
       "      <td>AUTOMATIC PAYMENT - THANK</td>\n",
       "      <td>2078.50</td>\n",
       "      <td>Payment</td>\n",
       "    </tr>\n",
       "    <tr>\n",
       "      <th>4</th>\n",
       "      <td>2019-09-27</td>\n",
       "      <td>KFC</td>\n",
       "      <td>500.00</td>\n",
       "      <td>Food and Drink</td>\n",
       "    </tr>\n",
       "  </tbody>\n",
       "</table>\n",
       "</div>"
      ],
      "text/plain": [
       "         Date                       Name   Amount        Category\n",
       "0  2019-10-03            United Airlines   500.00          Travel\n",
       "1  2019-10-01     Uber 072515 SF**POOL**     6.33          Travel\n",
       "2  2019-09-28                 Tectra Inc   500.00  Food and Drink\n",
       "3  2019-09-27  AUTOMATIC PAYMENT - THANK  2078.50         Payment\n",
       "4  2019-09-27                        KFC   500.00  Food and Drink"
      ]
     },
     "execution_count": 62,
     "metadata": {},
     "output_type": "execute_result"
    }
   ],
   "source": [
    "# YOUR CODE HERE\n",
    "transactions = transaction_response['transactions']\n",
    "\n",
    "dates = []\n",
    "names = []\n",
    "amounts = []\n",
    "categories = []\n",
    "\n",
    "for tran in transactions:\n",
    "    category = tran['category'][0]\n",
    "    categories.append(category)\n",
    "    dates.append(tran['date'])\n",
    "    names.append(tran['name'])\n",
    "    amounts.append(tran['amount'])\n",
    "\n",
    "for i in range(len(all_dates)):\n",
    "    print(f\"{all_dates[i]} {all_seller_name[i]} \\t ${all_amount[i]} Cat: {all_categories[i]}\")\n",
    "\n",
    "plaid_df = pd.DataFrame(list(zip(all_dates,all_seller_name,all_amount,all_categories)), \n",
    "                columns =['Date','Name','Amount','Category'])\n",
    "plaid_df.head()\n"
   ]
  },
  {
   "cell_type": "markdown",
   "metadata": {},
   "source": [
    "### 4. Convert the data types to the appropriate types \n",
    "\n",
    "(i.e. datetimeindex for the date and float for the amount)"
   ]
  },
  {
   "cell_type": "code",
   "execution_count": 64,
   "metadata": {},
   "outputs": [
    {
     "data": {
      "text/plain": [
       "Name         object\n",
       "Amount      float64\n",
       "Category     object\n",
       "dtype: object"
      ]
     },
     "execution_count": 64,
     "metadata": {},
     "output_type": "execute_result"
    }
   ],
   "source": [
    "# YOUR CODE HERE\n",
    "plaid_df['Date'] = pd.to_datetime(df['Date'])\n",
    "plaid_df.set_index('Date',inplace=True)\n",
    "plaid_df['Name'].astype('str')\n",
    "\n",
    "\n",
    "plaid_df.dtypes"
   ]
  },
  {
   "cell_type": "markdown",
   "metadata": {},
   "source": [
    "---"
   ]
  },
  {
   "cell_type": "markdown",
   "metadata": {},
   "source": [
    "# Income Analysis with Plaid\n",
    "\n",
    "In this section, you will use the Plaid Sandbox to complete the following:\n",
    "1. Determine the previous year's gross income and print the results\n",
    "2. Determine the current monthly income and print the results\n",
    "3. Determine the projected yearly income and print the results"
   ]
  },
  {
   "cell_type": "code",
   "execution_count": 65,
   "metadata": {},
   "outputs": [
    {
     "data": {
      "text/plain": [
       "{'income': {'income_streams': [{'confidence': 0.99,\n",
       "    'days': 690,\n",
       "    'monthly_income': 500,\n",
       "    'name': 'UNITED AIRLINES'}],\n",
       "  'last_year_income': 6000,\n",
       "  'last_year_income_before_tax': 7285,\n",
       "  'max_number_of_overlapping_income_streams': 1,\n",
       "  'number_of_income_streams': 1,\n",
       "  'projected_yearly_income': 6085,\n",
       "  'projected_yearly_income_before_tax': 7389},\n",
       " 'request_id': 'qLc8ZciLlPyrwld'}"
      ]
     },
     "execution_count": 65,
     "metadata": {},
     "output_type": "execute_result"
    }
   ],
   "source": [
    "# YOUR CODE HERE\n",
    "Income_response = client.Income.get(access_token)\n",
    "Income_response\n",
    "\n"
   ]
  },
  {
   "cell_type": "markdown",
   "metadata": {},
   "source": [
    "---"
   ]
  },
  {
   "cell_type": "markdown",
   "metadata": {},
   "source": [
    "# Budget Analysis\n",
    "In this section, you will use the transactions DataFrame to analyze the customer's budget\n",
    "\n",
    "1. Calculate the total spending per category and print the results (Hint: groupby or count transactions per category)\n",
    "2. Generate a bar chart with the number of transactions for each category \n",
    "3. Calulate the expenses per month\n",
    "4. Plot the total expenses per month"
   ]
  },
  {
   "cell_type": "markdown",
   "metadata": {},
   "source": [
    "### Calculate the expenses per category"
   ]
  },
  {
   "cell_type": "code",
   "execution_count": 67,
   "metadata": {},
   "outputs": [
    {
     "name": "stdout",
     "output_type": "stream",
     "text": [
      "                Amount\n",
      "Category              \n",
      "Food and Drink      15\n",
      "Payment              6\n",
      "Recreation           3\n",
      "Shops                3\n",
      "Transfer             9\n",
      "Travel              12\n",
      "                  Amount\n",
      "Category                \n",
      "Food and Drink   3317.19\n",
      "Payment          6310.50\n",
      "Recreation        235.50\n",
      "Shops            1500.00\n",
      "Transfer        20537.34\n",
      "Travel             35.19\n"
     ]
    },
    {
     "data": {
      "image/png": "[encoded data removed]",
      "text/plain": [
       "<Figure size 432x288 with 1 Axes>"
      ]
     },
     "metadata": {
      "needs_background": "light"
     },
     "output_type": "display_data"
    }
   ],
   "source": [
    "# YOUR CODE HERE\n",
    "plaid_df2 = plaid_df.drop(columns = ['Name'])\n",
    "total = plaid_df2.groupby(['Category']).sum()\n",
    "count = plaid_df2.groupby(['Category']).count()\n",
    "count.plot(kind='bar')\n",
    "print(count)\n",
    "print(total)\n"
   ]
  },
  {
   "cell_type": "markdown",
   "metadata": {},
   "source": [
    "### Calculate the expenses per month"
   ]
  },
  {
   "cell_type": "code",
   "execution_count": 74,
   "metadata": {},
   "outputs": [
    {
     "data": {
      "text/plain": [
       "<matplotlib.axes._subplots.AxesSubplot at 0x11b163e10>"
      ]
     },
     "execution_count": 74,
     "metadata": {},
     "output_type": "execute_result"
    },
    {
     "data": {
      "image/png": "[encoded data removed]",
      "text/plain": [
       "<Figure size 432x288 with 1 Axes>"
      ]
     },
     "metadata": {
      "needs_background": "light"
     },
     "output_type": "display_data"
    }
   ],
   "source": [
    "# YOUR CODE HEREdf_amounts = df.filter(['Date','Amount'])\n",
    "plaid_df3 = plaid_df.drop(columns = ['Name', 'Category'])\n",
    "plaid_df3.groupby(plaid_df3.index.month).sum().plot(kind='bar')"
   ]
  },
  {
   "cell_type": "code",
   "execution_count": null,
   "metadata": {},
   "outputs": [],
   "source": []
  },
  {
   "cell_type": "code",
   "execution_count": null,
   "metadata": {},
   "outputs": [],
   "source": []
  }
 ],
 "metadata": {
  "kernel_info": {
   "name": "dev"
  },
  "kernelspec": {
   "display_name": "Python 3",
   "language": "python",
   "name": "python3"
  },
  "language_info": {
   "codemirror_mode": {
    "name": "ipython",
    "version": 3
   },
   "file_extension": ".py",
   "mimetype": "text/x-python",
   "name": "python",
   "nbconvert_exporter": "python",
   "pygments_lexer": "ipython3",
   "version": "3.7.3"
  },
  "nteract": {
   "version": "0.12.3"
  }
 },
 "nbformat": 4,
 "nbformat_minor": 4
}
